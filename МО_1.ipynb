{
 "cells": [
  {
   "cell_type": "code",
   "execution_count": null,
   "metadata": {},
   "outputs": [],
   "source": [
    "import numpy as np\n",
    "import matplotlib.pyplot as plt\n",
    "from functools import reduce\n",
    "from scipy.misc import derivative"
   ]
  },
  {
   "cell_type": "code",
   "execution_count": null,
   "metadata": {},
   "outputs": [],
   "source": [
    "def f(x):\n",
    "    return x**4 + 8 * x**3 - 6 * x**2 - 72 * x + 90"
   ]
  },
  {
   "cell_type": "markdown",
   "metadata": {},
   "source": [
    "### Utilities"
   ]
  },
  {
   "cell_type": "code",
   "execution_count": null,
   "metadata": {},
   "outputs": [],
   "source": [
    "derivative_spacing = 1e-10\n",
    "epsilon = 1e-5\n",
    "\n",
    "F = lambda n:reduce(lambda x, n:[x[1], x[0] + x[1]], range(n), [0, 1])[0]"
   ]
  },
  {
   "cell_type": "code",
   "execution_count": null,
   "metadata": {},
   "outputs": [],
   "source": [
    "def displayResult(f, x, i):\n",
    "    print(f\"Iterations = {i}\")\n",
    "    print(f\"Point = ({x}, {f(x)})\")"
   ]
  },
  {
   "cell_type": "markdown",
   "metadata": {},
   "source": [
    "## Main functions"
   ]
  },
  {
   "cell_type": "code",
   "execution_count": null,
   "metadata": {},
   "outputs": [],
   "source": [
    "def findLocalizedSections(f, a, b):\n",
    "    return (-10, 5)"
   ]
  },
  {
   "cell_type": "code",
   "execution_count": null,
   "metadata": {},
   "outputs": [],
   "source": [
    "def bisectionMethod(f, a, b):\n",
    "    assert a <= b, \"'a' cannot be greater than 'b'\"\n",
    "    \n",
    "    iterations = 0\n",
    "    \n",
    "    x_k = (a + b) / 2\n",
    "    while (abs(a - b) > epsilon):\n",
    "        iterations = iterations + 1\n",
    "        \n",
    "        f_k_derivative = derivative(f, x_k, dx = derivative_spacing)\n",
    "        \n",
    "        if (f_k_derivative == 0):\n",
    "            x_k = (a + b) / 2\n",
    "            break\n",
    "        elif (f_k_derivative > 0):\n",
    "            b = x_k\n",
    "        elif (f_k_derivative < 0):\n",
    "            a = x_k\n",
    "            \n",
    "        x_k = (a + b) / 2\n",
    "        \n",
    "    x_min = x_k\n",
    "    displayResult(f, x_min, iterations)\n",
    "    \n",
    "    return (x_min, f(x_min))"
   ]
  },
  {
   "cell_type": "code",
   "execution_count": null,
   "metadata": {},
   "outputs": [],
   "source": [
    "def fibonacciMethod(f, a, b):\n",
    "    assert a <= b, \"'a' cannot be greater than 'b'\"\n",
    "    \n",
    "    F_n = (b - a) / epsilon\n",
    "\n",
    "    n = 1\n",
    "    while (int(F_n) <= F(n - 1) | int(F_n) > F(n)):\n",
    "        n = n + 1\n",
    "            \n",
    "    k = 0\n",
    "    while (k != n - 3):\n",
    "        y_k = a + F(n - 2) * (b - a) / F(n)\n",
    "        z_k = a + F(n - 1) * (b - a) / F(n)\n",
    "\n",
    "        if (f(y_k) < f(z_k)):\n",
    "            b = z_k\n",
    "            z_k = y_k\n",
    "        else:\n",
    "            a = y_k\n",
    "            y_k = z_k\n",
    "            \n",
    "        k = k + 1\n",
    "    \n",
    "    y_n = y_k\n",
    "    z_n = y_n + epsilon\n",
    "    \n",
    "    if (f(y_n) == f(z_n)):\n",
    "        a_n = y_n\n",
    "        b_n = b\n",
    "    else:\n",
    "        a_n = a\n",
    "        b_n = z_n\n",
    "            \n",
    "    x_min = (a_n + b_n) / 2\n",
    "    displayResult(f, x_min, k)\n",
    "    \n",
    "    return (x_min, f(x_min))"
   ]
  },
  {
   "cell_type": "markdown",
   "metadata": {},
   "source": [
    "# Results"
   ]
  },
  {
   "cell_type": "code",
   "execution_count": null,
   "metadata": {},
   "outputs": [],
   "source": [
    "a, b = [-10, 5]\n",
    "\n",
    "x = np.linspace(a, b, num=500)\n",
    "y = [-500, 500]\n",
    "\n",
    "fibMin = fibonacciMethod(f, a, b)\n",
    "bisMin = bisectionMethod(f, a, b)\n",
    "\n",
    "fix, (ax1, ax2) = plt.subplots(1, 2, figsize=(12, 4))\n",
    "\n",
    "ax1.set_ylim(y)\n",
    "ax2.set_ylim(y)\n",
    "\n",
    "plt.gca().set_aspect('auto', adjustable='box')\n",
    "\n",
    "ax1.plot(x, f(x))\n",
    "ax1.set_title(f\"Fibonacci method:\\n({fibMin[0]}, {fibMin[1]})\")\n",
    "ax1.plot(fibMin[0], fibMin[1], 'o')\n",
    "\n",
    "ax2.plot(x, f(x))\n",
    "ax2.set_title(f\"Bisection method:\\n({bisMin[0]}, {bisMin[1]})\")\n",
    "ax2.plot(bisMin[0], bisMin[1], 'o')\n",
    "\n",
    "plt.show()"
   ]
  },
  {
   "cell_type": "code",
   "execution_count": null,
   "metadata": {},
   "outputs": [],
   "source": []
  },
  {
   "cell_type": "code",
   "execution_count": null,
   "metadata": {},
   "outputs": [],
   "source": []
  }
 ],
 "metadata": {
  "kernelspec": {
   "display_name": "Python 3",
   "language": "python",
   "name": "python3"
  },
  "language_info": {
   "codemirror_mode": {
    "name": "ipython",
    "version": 3
   },
   "file_extension": ".py",
   "mimetype": "text/x-python",
   "name": "python",
   "nbconvert_exporter": "python",
   "pygments_lexer": "ipython3",
   "version": "3.6.5"
  }
 },
 "nbformat": 4,
 "nbformat_minor": 2
}
