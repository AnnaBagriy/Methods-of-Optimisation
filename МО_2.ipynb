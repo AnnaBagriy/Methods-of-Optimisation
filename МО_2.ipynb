{
 "cells": [
  {
   "cell_type": "code",
   "execution_count": 213,
   "metadata": {},
   "outputs": [],
   "source": [
    "import import_ipynb"
   ]
  },
  {
   "cell_type": "code",
   "execution_count": 214,
   "metadata": {},
   "outputs": [],
   "source": [
    "import numpy as np\n",
    "import math\n",
    "import matplotlib.pyplot as plt\n",
    "\n",
    "import mpl_toolkits.mplot3d\n",
    "from scipy.misc import derivative\n",
    "from sympy import *"
   ]
  },
  {
   "cell_type": "code",
   "execution_count": 215,
   "metadata": {},
   "outputs": [],
   "source": [
    "x1, x2 = symbols('x1 x2')\n",
    "\n",
    "f_x = sqrt(x1**2 + x2**2 + 1) + 0.5 * x1 - 0.5 * x2"
   ]
  },
  {
   "cell_type": "markdown",
   "metadata": {},
   "source": [
    "### Utilities"
   ]
  },
  {
   "cell_type": "code",
   "execution_count": 216,
   "metadata": {},
   "outputs": [],
   "source": [
    "epsilon = 1e-5\n",
    "derivative_spacing = 1e-10\n",
    "\n",
    "# Given dimensions\n",
    "n = 2\n",
    "\n",
    "# Start point\n",
    "x_0 = [2, 2]\n",
    "\n",
    "# For modified Newton's method\n",
    "p = 3"
   ]
  },
  {
   "cell_type": "code",
   "execution_count": 217,
   "metadata": {},
   "outputs": [],
   "source": [
    "def partialBy(by, func = f_x):\n",
    "    return diff(func, by)"
   ]
  },
  {
   "cell_type": "markdown",
   "metadata": {},
   "source": [
    "### Gradient functions"
   ]
  },
  {
   "cell_type": "code",
   "execution_count": 218,
   "metadata": {},
   "outputs": [],
   "source": [
    "def gradient():\n",
    "    return np.array([partialBy(x1), partialBy(x2)])\n",
    "\n",
    "f_gradient = gradient()"
   ]
  },
  {
   "cell_type": "code",
   "execution_count": 219,
   "metadata": {},
   "outputs": [],
   "source": [
    "def gradientIn(x):\n",
    "    x_1 = float(partialBy(x1).subs({x1:x[0], x2:x[1]}))\n",
    "    x_2 = float(partialBy(x2).subs({x1:x[0], x2:x[1]}))\n",
    "    \n",
    "    return np.array([x_1, x_2])"
   ]
  },
  {
   "cell_type": "markdown",
   "metadata": {},
   "source": [
    "### Hessian functions"
   ]
  },
  {
   "cell_type": "code",
   "execution_count": 220,
   "metadata": {},
   "outputs": [],
   "source": [
    "def Hessian():\n",
    "    x_11 = diff(f_gradient[0], x1)\n",
    "    x_12 = diff(f_gradient[0], x2)\n",
    "    x_21 = diff(f_gradient[1], x1)\n",
    "    x_22 = diff(f_gradient[1], x2)\n",
    "    \n",
    "    return np.array([[x_11, x_12],\n",
    "                     [x_21, x_22]])"
   ]
  },
  {
   "cell_type": "code",
   "execution_count": 221,
   "metadata": {},
   "outputs": [],
   "source": [
    "def HessianIn(x):\n",
    "    x_11 = float(partialBy(x1, f_gradient[0]).subs({x1:x[0], x2:x[1]}))\n",
    "    x_12 = float(partialBy(x2, f_gradient[0]).subs({x1:x[0], x2:x[1]}))\n",
    "    x_21 = float(partialBy(x1, f_gradient[1]).subs({x1:x[0], x2:x[1]}))\n",
    "    x_22 = float(partialBy(x2, f_gradient[1]).subs({x1:x[0], x2:x[1]}))\n",
    "    \n",
    "    return np.array([[x_11, x_12],\n",
    "                     [x_21, x_22]])"
   ]
  },
  {
   "cell_type": "markdown",
   "metadata": {},
   "source": [
    "### Functions for one-dimension minimization"
   ]
  },
  {
   "cell_type": "code",
   "execution_count": 222,
   "metadata": {},
   "outputs": [],
   "source": [
    "def displayResult(f, x, i):\n",
    "    print(f\"Alpha minimization:\")\n",
    "    print(f\"\\tIterations = {i}\")\n",
    "    print(f\"\\tPoint = ({x}, {f(x)})\")\n",
    "\n",
    "def findLocalizedSections(f, x = 0, h = 0.001):\n",
    "    temp = [] \n",
    "    array = [] \n",
    "    \n",
    "    if(f(x) < f(x + h)): \n",
    "        h = -h; \n",
    "        \n",
    "    while(f(x) > f(x + h)):\n",
    "        x = x + h \n",
    "        temp.append(x) \n",
    "        h = 2 * h \n",
    "        \n",
    "    temp.append(x + 0.5 * h); \n",
    "    temp.append(x + h); \n",
    "\n",
    "    if (f(temp[-2]) > f(temp[-3])): \n",
    "            a = temp[- 4]; \n",
    "            b = temp[ - 2]; \n",
    "\n",
    "    if (f(temp[- 2]) <= f(temp[ - 3])): \n",
    "            a = temp[- 1] \n",
    "            b = temp[- 3] \n",
    "\n",
    "\n",
    "    if(a > b): \n",
    "        t = b \n",
    "        b = a \n",
    "        a = t\n",
    "\n",
    "    return(a, b)\n",
    "\n",
    "def bisectionMethod(f, a, b):\n",
    "    assert a <= b, \"'a' cannot be greater than 'b'\"\n",
    "    \n",
    "    iterations = 0\n",
    "    \n",
    "    x_k = (a + b) / 2\n",
    "    while (abs(a - b) > epsilon):\n",
    "        iterations = iterations + 1\n",
    "        \n",
    "        f_k_derivative = derivative(f, x_k, dx = derivative_spacing)\n",
    "        \n",
    "        if (f_k_derivative == 0):\n",
    "            x_k = (a + b) / 2\n",
    "            break\n",
    "        elif (f_k_derivative > 0):\n",
    "            b = x_k\n",
    "        elif (f_k_derivative < 0):\n",
    "            a = x_k\n",
    "            \n",
    "        x_k = (a + b) / 2\n",
    "        \n",
    "    x_min = x_k\n",
    "    displayResult(f, x_min, iterations)\n",
    "    \n",
    "    return x_min"
   ]
  },
  {
   "cell_type": "code",
   "execution_count": 223,
   "metadata": {},
   "outputs": [],
   "source": [
    "def output(x_k, x_k_1, k):\n",
    "    print('k =', k)\n",
    "    print('x_k =', x_k)\n",
    "    print('x_k_1 =', x_k_1, '\\n')"
   ]
  },
  {
   "cell_type": "markdown",
   "metadata": {},
   "source": [
    "## Functions for multidimension minimization"
   ]
  },
  {
   "cell_type": "code",
   "execution_count": 224,
   "metadata": {},
   "outputs": [],
   "source": [
    "alpha = Symbol('alpha')\n",
    "\n",
    "def modifiedNewtonMethod(p):\n",
    "    k = 0\n",
    "    f_grad_x_0 = gradientIn(x_0)\n",
    "    if(np.linalg.norm(f_grad_x_0) <= epsilon):\n",
    "        return x_0\n",
    "    \n",
    "    f_inverse_x_k = np.linalg.inv(HessianIn(x_0))\n",
    "\n",
    "    x_1 = x_0 - alpha * f_inverse_x_k.dot(f_grad_x_0)\n",
    "    f_x_1 = f_x.subs({x1:x_1[0], x2:x_1[1]})\n",
    "\n",
    "    a, b = findLocalizedSections(lambdify(alpha, f_x_1))\n",
    "    alpha_k = bisectionMethod(lambdify(alpha, f_x_1), a, b)\n",
    "    \n",
    "    x_1 = x_0 - alpha_k * f_inverse_x_k.dot(f_grad_x_0)\n",
    "    \n",
    "    # FINDING ALPHA BY DIVIDING BY TWO\n",
    "    \n",
    "    #alpha_k = 1\n",
    "    #x_1 = x_0 - alpha_k * f_inverse_x_0.dot(f_grad_x_0)\n",
    "    #while(f_x.subs({x1:x_1[0], x2:x_1[1]}) > f_x.subs({x1:x_0[0], x2:x_0[1]})):\n",
    "    #        alpha_k = alpha_k / 2\n",
    "    #        x_1 = x_0 - alpha_k * f_inverse_x_k.dot(f_grad_x_0)\n",
    "    \n",
    "    \n",
    "    output(x_0, x_1, k)\n",
    "    \n",
    "    if(np.linalg.norm(x_1 - x_0) <= epsilon):\n",
    "        return x_1\n",
    "    \n",
    "    x_k = x_0\n",
    "    x_k_1 = x_1\n",
    "    \n",
    "    k = 1\n",
    "    while(np.linalg.norm(x_k_1 - x_k) > epsilon):\n",
    "        x_k = x_k_1\n",
    "        \n",
    "        f_grad_x_k = gradientIn(x_k)\n",
    "        \n",
    "        # Checking if we need to recompute inverse Hessian\n",
    "        if((k // p) * p == k):\n",
    "            print(\"New inverse Hessian is coming\")\n",
    "            f_inverse_x_k = np.linalg.inv(HessianIn(x_k))\n",
    "\n",
    "        # Finding alpha\n",
    "        x_k_1 = x_k - alpha * f_inverse_x_k.dot(f_grad_x_k)\n",
    "        f_x_k_1 = f_x.subs({x1:x_k_1[0], x2:x_k_1[1]})\n",
    "\n",
    "        a, b = findLocalizedSections(lambdify(alpha, f_x_k_1))\n",
    "        alpha_k = bisectionMethod(lambdify(alpha, f_x_k_1), a, b)\n",
    "        \n",
    "        # Finding x_k+1\n",
    "        x_k_1 = x_k - alpha_k * f_inverse_x_k.dot(f_grad_x_k)\n",
    "        \n",
    "        # FINDING ALPHA BY DIVIDING BY TWO\n",
    "        \n",
    "        #alpha_k = 1\n",
    "        #x_k_1 = x_k - alpha_k * f_inverse_x_k.dot(f_grad_x_k)\n",
    "        #while(f_x.subs({x1:x_k_1[0], x2:x_k_1[1]}) > f_x.subs({x1:x_k[0], x2:x_k[1]})):\n",
    "        #    alpha_k = alpha_k / 2\n",
    "        #    x_k_1 = x_k - alpha_k * f_inverse_x_k.dot(f_grad_x_k)\n",
    "            \n",
    "        output(x_k, x_k_1, k)\n",
    "        \n",
    "        k = k + 1\n",
    "    \n",
    "    return x_k_1, k\n",
    "    "
   ]
  },
  {
   "cell_type": "code",
   "execution_count": 225,
   "metadata": {},
   "outputs": [],
   "source": [
    "def broydensMethod():\n",
    "    k = 0\n",
    "    f_grad_x_0 = gradientIn(x_0)\n",
    "    if(np.linalg.norm(f_grad_x_0) <= epsilon):\n",
    "        return x_0\n",
    "    \n",
    "    H_0 = np.identity(n)\n",
    "    \n",
    "    x_1 = x_0 - alpha * H_0.dot(f_grad_x_0)\n",
    "    f_x_1 = f_x.subs({x1:x_1[0], x2:x_1[1]})\n",
    "    \n",
    "    a, b = findLocalizedSections(lambdify(alpha, f_x_1))\n",
    "    alpha_k = bisectionMethod(lambdify(alpha, f_x_1), a, b)\n",
    "    \n",
    "    x_1 = x_0 - alpha_k * H_0.dot(f_grad_x_0)\n",
    "\n",
    "    output(x_1, x_1, k)\n",
    "    \n",
    "    if(np.linalg.norm(x_1 - x_0) <= epsilon):\n",
    "        return x_1\n",
    "    \n",
    "    x_k = x_0\n",
    "    x_k_1 = x_1\n",
    "    H_k = H_0\n",
    "    \n",
    "    while(np.linalg.norm(x_k_1 - x_k) > epsilon):\n",
    "        # Finding H_k\n",
    "        delta_x_k = np.subtract(x_k_1, x_k)\n",
    "        delta_y_k = np.subtract(gradientIn(x_k_1), gradientIn(x_k))\n",
    "\n",
    "        numerator = (delta_x_k - H_k.dot(delta_y_k)).dot((delta_x_k - H_k.dot(delta_y_k))[np.newaxis].T)[0]\n",
    "        denominator = (delta_x_k - H_k.dot(delta_y_k)).dot(delta_y_k)\n",
    "\n",
    "        H_k = H_k + numerator / denominator\n",
    "    \n",
    "        x_k = x_k_1\n",
    "        \n",
    "        f_grad_x_k = gradientIn(x_k)\n",
    "        \n",
    "        # Finding alpha\n",
    "        x_k_1 = x_k - alpha * H_k.dot(f_grad_x_k)\n",
    "        f_x_k_1 = f_x.subs({x1:x_k_1[0], x2:x_k_1[1]})\n",
    "\n",
    "        a, b = findLocalizedSections(lambdify(alpha, f_x_k_1))\n",
    "        alpha_k = bisectionMethod(lambdify(alpha, f_x_k_1), a, b)\n",
    "        \n",
    "        # Finding x_k+1\n",
    "        x_k_1 = x_k - alpha_k * H_k.dot(f_grad_x_k)\n",
    "        \n",
    "        output(x_k, x_k_1, k)\n",
    "        \n",
    "        k = k + 1\n",
    "    \n",
    "    return x_k_1, k"
   ]
  },
  {
   "cell_type": "markdown",
   "metadata": {},
   "source": [
    "## Showing Results"
   ]
  },
  {
   "cell_type": "code",
   "execution_count": 226,
   "metadata": {},
   "outputs": [
    {
     "data": {
      "image/png": "[encoded data removed]",
      "text/plain": [
       "<Figure size 432x288 with 1 Axes>"
      ]
     },
     "metadata": {},
     "output_type": "display_data"
    }
   ],
   "source": [
    "ax = plt.axes(projection=\"3d\")\n",
    "z_function = lambdify([x1, x2], f_x)\n",
    "\n",
    "x = np.linspace(-6, 6, 100)\n",
    "y = np.linspace(-6, 6, 100)\n",
    "\n",
    "X, Y = np.meshgrid(x, y)\n",
    "Z = z_function(X, Y)\n",
    "\n",
    "ax = plt.axes(projection=\"3d\")\n",
    "ax.plot_wireframe(X, Y, Z, color='black')\n",
    "ax.set_xlabel('x')\n",
    "ax.set_ylabel('y')\n",
    "ax.set_zlabel('z')\n",
    "\n",
    "plt.show()"
   ]
  },
  {
   "cell_type": "code",
   "execution_count": 227,
   "metadata": {},
   "outputs": [
    {
     "name": "stdout",
     "output_type": "stream",
     "text": [
      "Alpha minimization:\n",
      "\tIterations = 18\n",
      "\tPoint = (2.70308984375, 0.8237040113202885)\n",
      "k = 0\n",
      "x_k = [-1.15360482  1.54948503]\n",
      "x_k_1 = [-1.15360482  1.54948503] \n",
      "\n",
      "Alpha minimization:\n",
      "\tIterations = 16\n",
      "\tPoint = (0.65579296875, 0.7886169018720924)\n",
      "k = 0\n",
      "x_k = [-1.15360482  1.54948503]\n",
      "x_k_1 = [-1.34337503  1.2005816 ] \n",
      "\n",
      "Alpha minimization:\n",
      "\tIterations = 13\n",
      "\tPoint = (4.217500000000001, 0.7248600542633867)\n",
      "k = 1\n",
      "x_k = [-1.34337503  1.2005816 ]\n",
      "x_k_1 = [-0.93238885  0.62225327] \n",
      "\n",
      "Alpha minimization:\n",
      "\tIterations = 15\n",
      "\tPoint = (0.22966796874999998, 0.7085868189872991)\n",
      "k = 2\n",
      "x_k = [-0.93238885  0.62225327]\n",
      "x_k_1 = [-0.77247961  0.77414176] \n",
      "\n",
      "Alpha minimization:\n",
      "\tIterations = 9\n",
      "\tPoint = (2.9710000000000005, 0.7071398243149746)\n",
      "k = 3\n",
      "x_k = [-0.77247961  0.77414176]\n",
      "x_k_1 = [-0.70165456  0.71520439] \n",
      "\n",
      "Alpha minimization:\n",
      "\tIterations = 6\n",
      "\tPoint = (1.423, 0.7071069536374432)\n",
      "k = 4\n",
      "x_k = [-0.70165456  0.71520439]\n",
      "x_k_1 = [-0.70790985  0.70765268] \n",
      "\n",
      "Alpha minimization:\n",
      "\tIterations = 2\n",
      "\tPoint = (1.5350000000000001, 0.7071068266799347)\n",
      "k = 5\n",
      "x_k = [-0.70790985  0.70765268]\n",
      "x_k_1 = [-0.70728625  0.70754472] \n",
      "\n",
      "Alpha minimization:\n",
      "\tIterations = 5\n",
      "\tPoint = (0.203, 0.7071068118263526)\n",
      "k = 6\n",
      "x_k = [-0.70728625  0.70754472]\n",
      "x_k_1 = [-0.70744111  0.70734557] \n",
      "\n",
      "Alpha minimization:\n",
      "\tIterations = 6\n",
      "\tPoint = (0.048, 0.7071068116713403)\n",
      "k = 7\n",
      "x_k = [-0.70744111  0.70734557]\n",
      "x_k_1 = [-0.70744716  0.70732979] \n",
      "\n",
      "Alpha minimization:\n",
      "\tIterations = 5\n",
      "\tPoint = (0.15100000000000002, 0.7071068063226861)\n",
      "k = 8\n",
      "x_k = [-0.70744716  0.70732979]\n",
      "x_k_1 = [-0.7073731   0.70737379] \n",
      "\n",
      "Alpha minimization:\n",
      "\tIterations = 2\n",
      "\tPoint = (3.5830000000000006, 0.7071067829977329)\n",
      "k = 9\n",
      "x_k = [-0.7073731   0.70737379]\n",
      "x_k_1 = [-0.70702961  0.70704187] \n",
      "\n",
      "Alpha minimization:\n",
      "\tIterations = 5\n",
      "\tPoint = (2.1109999999999998, 0.707106782074286)\n",
      "k = 10\n",
      "x_k = [-0.70702961  0.70704187]\n",
      "x_k_1 = [-0.7070557   0.70712183] \n",
      "\n",
      "Alpha minimization:\n",
      "\tIterations = 1\n",
      "\tPoint = (0.383, 0.7071067812939293)\n",
      "k = 11\n",
      "x_k = [-0.7070557   0.70712183]\n",
      "x_k_1 = [-0.70709673  0.70708568] \n",
      "\n",
      "Alpha minimization:\n",
      "\tIterations = 1\n",
      "\tPoint = (0.255, 0.7071067812922939)\n",
      "k = 12\n",
      "x_k = [-0.70709673  0.70708568]\n",
      "x_k_1 = [-0.70709962  0.7070856 ] \n",
      "\n"
     ]
    }
   ],
   "source": [
    "(x_min_broydens, k_b) = broydensMethod()"
   ]
  },
  {
   "cell_type": "code",
   "execution_count": 228,
   "metadata": {},
   "outputs": [
    {
     "name": "stdout",
     "output_type": "stream",
     "text": [
      "Alpha minimization:\n",
      "\tIterations = 14\n",
      "\tPoint = (0.11270703124999999, 0.8599260263150883)\n",
      "k = 0\n",
      "x_k = [2, 2]\n",
      "x_k_1 = [-0.19778711  0.14033398] \n",
      "\n",
      "Alpha minimization:\n",
      "\tIterations = 15\n",
      "\tPoint = (0.29803515625, 0.7624902573617016)\n",
      "k = 1\n",
      "x_k = [-0.19778711  0.14033398]\n",
      "x_k_1 = [-0.27329063  0.66513626] \n",
      "\n",
      "Alpha minimization:\n",
      "\tIterations = 13\n",
      "\tPoint = (0.04794921875, 0.727436772177729)\n",
      "k = 2\n",
      "x_k = [-0.27329063  0.66513626]\n",
      "x_k_1 = [-0.49634828  0.47632969] \n",
      "\n",
      "New inverse Hessian is coming\n",
      "Alpha minimization:\n",
      "\tIterations = 13\n",
      "\tPoint = (1.2433750000000003, 0.7071074625973298)\n",
      "k = 3\n",
      "x_k = [-0.49634828  0.47632969]\n",
      "x_k_1 = [-0.70603053  0.70798898] \n",
      "\n",
      "Alpha minimization:\n",
      "\tIterations = 1\n",
      "\tPoint = (1.0230000000000001, 0.7071067913971025)\n",
      "k = 4\n",
      "x_k = [-0.70603053  0.70798898]\n",
      "x_k_1 = [-0.70696251  0.70720012] \n",
      "\n",
      "Alpha minimization:\n",
      "\tIterations = 17\n",
      "\tPoint = (1.2639804687500003, 0.7071067812659741)\n",
      "k = 5\n",
      "x_k = [-0.70696251  0.70720012]\n",
      "x_k_1 = [-0.70711317  0.70709268] \n",
      "\n",
      "New inverse Hessian is coming\n",
      "Alpha minimization:\n",
      "\tIterations = 17\n",
      "\tPoint = (1.3327539062499998, 0.7071067811953413)\n",
      "k = 6\n",
      "x_k = [-0.70711317  0.70709268]\n",
      "x_k_1 = [-0.70710466  0.70711147] \n",
      "\n",
      "Alpha minimization:\n",
      "\tIterations = 1\n",
      "\tPoint = (1.0230000000000001, 0.7071067811865517)\n",
      "k = 7\n",
      "x_k = [-0.70710466  0.70711147]\n",
      "x_k_1 = [-0.70710683  0.70710667] \n",
      "\n"
     ]
    }
   ],
   "source": [
    "x_min_mod_newton, k_n = modifiedNewtonMethod(p)"
   ]
  },
  {
   "cell_type": "markdown",
   "metadata": {},
   "source": [
    "## Comparison"
   ]
  },
  {
   "cell_type": "code",
   "execution_count": 229,
   "metadata": {},
   "outputs": [
    {
     "name": "stdout",
     "output_type": "stream",
     "text": [
      "Broyden's method: x_min = [-0.70709962  0.7070856 ]\n",
      "Modified Newton's method: x_min = [-0.70710683  0.70710667]\n",
      "\n",
      "Norm =  2.2273247704856398e-05\n",
      "\n",
      "Broyden's method iterations: k = 13\n",
      "Modified Newton's method iterations: k = 8\n"
     ]
    }
   ],
   "source": [
    "print(\"Broyden's method: x_min =\", x_min_broydens)\n",
    "print(\"Modified Newton's method: x_min =\", x_min_mod_newton)\n",
    "print(\"\\nNorm = \", np.linalg.norm(x_min_broydens - x_min_mod_newton))\n",
    "print(\"\\nBroyden's method iterations: k =\", k_b)\n",
    "print(\"Modified Newton's method iterations: k =\", k_n)"
   ]
  },
  {
   "cell_type": "code",
   "execution_count": null,
   "metadata": {},
   "outputs": [],
   "source": []
  }
 ],
 "metadata": {
  "kernelspec": {
   "display_name": "Python 3",
   "language": "python",
   "name": "python3"
  }
 },
 "nbformat": 4,
 "nbformat_minor": 2
}
